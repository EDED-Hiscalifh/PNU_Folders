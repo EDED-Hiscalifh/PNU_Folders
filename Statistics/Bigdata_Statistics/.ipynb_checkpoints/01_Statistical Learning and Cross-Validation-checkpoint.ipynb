{
 "cells": [
  {
   "cell_type": "markdown",
   "id": "8837a6c2",
   "metadata": {},
   "source": [
    "# Statistical Learning"
   ]
  },
  {
   "cell_type": "markdown",
   "id": "27dbe3fe",
   "metadata": {},
   "source": [
    "- **Statistical Learning** is a set of tools for modeling and understanding complex datasets. \n",
    "- **Supervised Statistical Learning** builds a statistical model for predicting or estimating for data with output based on one or more inputs.\n",
    "- **Unsupervised Statistical Learning** learns relationships and structure from data that has inputs but no supervising output. "
   ]
  },
  {
   "cell_type": "markdown",
   "id": "aec520bc",
   "metadata": {},
   "source": [
    "## Supervised Learning Problem "
   ]
  },
  {
   "cell_type": "markdown",
   "id": "0db65267",
   "metadata": {},
   "source": [
    "- Outcome measurement $Y$ (dependent variable, response, target)\n",
    "- Vector of p predictor measurement $X$ (independent variables, inputs, regressors, features)\n",
    "- Regression problem : $Y$ is quantitive. \n",
    "- Classification problem : $Y$ takes values in a finite, unorder set. "
   ]
  },
  {
   "cell_type": "markdown",
   "id": "71c84796",
   "metadata": {},
   "source": [
    "## Statistical Learning vs Machine Learning"
   ]
  },
  {
   "cell_type": "markdown",
   "id": "a9a40303",
   "metadata": {},
   "source": [
    "- **Machine Learning** has a greater emphasis on large scale applications and prediction accuracy. \n",
    "- **Statistical Learning** emphasizes models, interpretability, precision and uncertainty. "
   ]
  },
  {
   "cell_type": "markdown",
   "id": "6611a598",
   "metadata": {},
   "source": [
    "## [Ex] Advertising Data\n",
    "\n",
    "<img src = \"Img/Advertising01.png\"/>\n",
    "\n",
    "```R\n",
    "## Open the dataset linked to the book website\n",
    "url.ad <- \"https://www.statlearning.com/s/Advertising.csv\"\n",
    "Advertising <- read.csv(url.ad, h=T)\n",
    "attach(Advertising)\n",
    "\n",
    "## Least square fit for simple linear regression\n",
    "par(mfrow = c(1,3))\n",
    "plot(sales~TV, col=2, xlab=\"TV\", ylab=\"Sales\")\n",
    "abline(lm(sales~TV)$coef, lwd=3, col=\"darkblue\")\n",
    "\n",
    "plot(sales~radio, col=2, xlab=\"Radio\", ylab=\"Sales\")\n",
    "abline(lm(sales~radio)$coef, lwd=3, col=\"darkblue\")\n",
    "\n",
    "plot(sales~newspaper, col=2, xlab=\"Newspaper\", ylab=\"Sales\")\n",
    "abline(lm(sales~newspaper)$coef, lwd = 3, col=\"darkblue\")\n",
    "```\n",
    "\n",
    "- Sales is a response or target that we wish to predict. \n",
    "- TV is a feature, or input, or predictor which we can name it $X_1$. "
   ]
  },
  {
   "cell_type": "markdown",
   "id": "9c311c32",
   "metadata": {},
   "source": [
    "# Supervised Learning"
   ]
  },
  {
   "cell_type": "markdown",
   "id": "8eb78c90",
   "metadata": {},
   "source": [
    "## Model  "
   ]
  },
  {
   "cell_type": "markdown",
   "id": "a6819ce5",
   "metadata": {},
   "source": [
    "- Ideal model : $Y = f(X) + \\epsilon$\n",
    "- Good $f(X)$ can make predictions of $Y$ at new points $X = x$. \n",
    "- Statistical Learning refers to a set of approaches for estimating the function $f(X)$."
   ]
  },
  {
   "cell_type": "markdown",
   "id": "4c4db7d0",
   "metadata": {},
   "source": [
    "```R\n",
    "## Indexing without index \n",
    "AD <- Advertising[, -1] \n",
    "\n",
    "## Multiple linear regression \n",
    "lm.fit <- lm(sales ~., AD) \n",
    "summary(lm.fit)\n",
    "names(lm.fit) \n",
    "coef(lm.fit)\n",
    "confint(lm.fit) \n",
    "\n",
    "## Visualizaing models \n",
    "par(mfrow=c(2,2))\n",
    "plot(lm.fit) \n",
    "\n",
    "dev.off()\n",
    "plot(predict(lm.fit), residuals(lm.fit))    # Residual vs Fitted  \n",
    "plot(predict(lm.fit), rstudent(lm.fit))    \n",
    "plot(hatvalues(lm.fit))\n",
    "which.max(hatvalues(lm.fit)) \n",
    "```"
   ]
  },
  {
   "cell_type": "markdown",
   "id": "48ecb8ea",
   "metadata": {},
   "source": [
    "## Estimation of $f$ for Preidction"
   ]
  },
  {
   "cell_type": "markdown",
   "id": "ea2bbfa2",
   "metadata": {},
   "source": [
    "- $\\hat{Y} = \\hat{f}(X)$\n",
    "- $\\hat{f}$ : Estimation for $f$. \n",
    "- $\\hat{Y}$ : Prediction for $Y$. \n",
    "- Ideal function $f(x)$ is $f(x) = E(Y|X=x)$.\n",
    "- Reducible error : $E[(f(x) - \\hat{f}(x))^2]$\n",
    "- Irreducible error : $\\epsilon = Y - f(x)$\n",
    "- <font color = 'red'>Statistical learning techniques for estimating $f$ is minimizing reducible error.</font>\n",
    "- <font color = 'red'>Statistical learning is the way finding $\\hat{f}$ which is the most similar function to $f$.</font>"
   ]
  },
  {
   "cell_type": "markdown",
   "id": "49e51fcd",
   "metadata": {},
   "source": [
    "## [Ex] Income "
   ]
  },
  {
   "cell_type": "markdown",
   "id": "43cc239f",
   "metadata": {},
   "source": [
    "![](Img/Income1.png)\n",
    "\n",
    "```R\n",
    "## Load Datasets\n",
    "url.in <- \"https://www.statlearning.com/s/Income1.csv\"\n",
    "Income <- read.csv(url.in, h=T)\n",
    "\n",
    "## Polynomial regression fit \n",
    "par(mfrow = c(1,2)) \n",
    "plot(Income~Education, col=2, pch=19, xlab=\"Years of Education\", \n",
    "     ylab=\"Income\", data=Income) \n",
    "\n",
    "g <- lm(Income ~ poly(Education, 3), data=Income) \n",
    "plot(Income~Education, col=2, pch=19, xlab=\"Years of Education\", \n",
    "     ylab=\"Income\", data=Income)\n",
    "lines(Income$Education, g$fit, col=\"darkblue\", lwd=4, ylab=\"Income\", \n",
    "      xlab=\"Years of Education\")\n",
    "\n",
    "## Compare residuals\n",
    "y <- Income$Income\n",
    "mean((predict(g) - y)^2) \n",
    "mean(residuals(g)^2)\n",
    "```"
   ]
  },
  {
   "cell_type": "markdown",
   "id": "9d4d7b67",
   "metadata": {},
   "source": [
    "![](Img/Income2.png)\n",
    "```R \n",
    "dist <- NULL\n",
    "par(mfrow=c(3,4)) \n",
    "for (k in 1:12) { \n",
    "    g <- lm(Income ~ poly(Education, k), data=Income) \n",
    "    dist[k] <- mean(residuals(g)^2)\n",
    "    plot(Income~Education, col=2, pch=19, xlab=\"Years of Education\", ylab=\"Income\",\n",
    "         data=Income, main=paste(\"k =\", k)) \n",
    "    lines(Income$Education, g$fit, col=\"darkblue\", lwd=3, ylabe=\"Income\", xlab=\"Years of Education\")\n",
    "}\n",
    "```"
   ]
  },
  {
   "cell_type": "markdown",
   "id": "d1ab5aea",
   "metadata": {},
   "source": [
    "![](Img/Income3.png)\n",
    "\n",
    "```R\n",
    "x11()\n",
    "plot(dist, type=\"b\", xlab=\"Degree of Polynomial\", \n",
    "     ylab=\"Mean squared distance\")\n",
    "```"
   ]
  },
  {
   "cell_type": "markdown",
   "id": "9d8b171b",
   "metadata": {},
   "source": [
    "# Parametric and Non-Parametric Methods "
   ]
  },
  {
   "cell_type": "markdown",
   "id": "1925c487",
   "metadata": {},
   "source": [
    "- **Parametric methods** : make an assumption about the functional form or shape of $f$. \n",
    "- **N-parametric methods** : do not make explicit assumptions about the functional of $f$."
   ]
  },
  {
   "cell_type": "markdown",
   "id": "becede84",
   "metadata": {},
   "source": [
    "# Flexibility and Interpretability \n",
    "\n",
    "- **Flexibility** increases when we increase **df(degree of freedom)**.\n",
    "- **Less flexible(Restrictive)** models are much more **interpretable**. \n",
    "- Considering only prediction, the most flexible model is prefable. \n",
    "\n",
    "![](Img/Flexibility_01.png)\n",
    "\n",
    "<center> 즉 Flexibility와 Interpretability는 교차 관계로, 매개변수에 대한 해석과 모델의 예측 성능을 중요도에 따라 모델을 선정한다. "
   ]
  },
  {
   "cell_type": "markdown",
   "id": "3ba51226",
   "metadata": {},
   "source": [
    "# Assessing Model Accuracy\n",
    "\n",
    "- **Qunatitive** : MSE(mean squared error) \n",
    "- **Qualitative** : Classification error rate\n",
    "- Type of data set\n",
    "    - **Training set** : to fit statistical learning models \n",
    "    - **Validation set** : to select optimal tuning parameter\n",
    "    - **Test set** : to select the best model "
   ]
  },
  {
   "cell_type": "markdown",
   "id": "a07b685d",
   "metadata": {},
   "source": [
    "## MSE \n",
    "\n",
    "- Suppose our fitted model $\\hat{f}(x)$ from training dataset, $(x_i, y_i)$.\n",
    "- $MSE_{train} = \\frac{1}{n_1}\\sum_{i \\in {train}}[y_i - \\hat{f}(x_i)]^2$\n",
    "- $MSE_{test} = \\frac{1}{n_2}\\sum_{i \\in {test}}[y_i - \\hat{f}(x_i)]^2$\n",
    "- The best $\\hat{f}(x)$ is model which minimize $MSE_{test}$.\n",
    "\n",
    "\n",
    "## [Ex] Cubic Model MSE\n",
    "\n",
    "![](Img/MSE01.png)\n",
    "\n",
    "- red curve : $MSE_{test}$\n",
    "- grey curve : $MSE_{train}$\n",
    "\n",
    "```R\n",
    "set.seed(12345)\n",
    "## Simulate x and y based on a known function\n",
    "fun1 <- function(x) -(x-100)*(x-30)*(x+15)/13^4+6\n",
    "x <- runif(50,0,100)\n",
    "y <- fun1(x) + rnorm(50)\n",
    "\n",
    "## Plot linear regression and splines\n",
    "par(mfrow=c(1,2))\n",
    "plot(x, y, xlab=\"X\", ylab=\"Y\", ylim=c(1,13))\n",
    "plot(x, y, xlab=\"X\", ylab=\"Y\", ylim=c(1,13))\n",
    "lines(sort(x), fun1(sort(x)), col=1, lwd=2)\n",
    "abline(lm(y~x)$coef, col=\"orange\", lwd=2)\n",
    "lines(smooth.spline(x,y, df=5), col=\"blue\", lwd=2)\n",
    "lines(smooth.spline(x,y, df=23), col=\"green\", lwd=2)\n",
    "legend(\"topleft\", lty=1, col=c(1, \"orange\", \"blue\", \"green\"),\n",
    "legend=c(\"True\", \"df = 1\", \"df = 5\", \"df =23\"),lwd=2)\n",
    "\n",
    "\n",
    "set.seed(45678)\n",
    "## Simulate training and test data (x, y)\n",
    "tran.x <- runif(50,0,100)\n",
    "test.x <- runif(50,0,100)\n",
    "tran.y <- fun1(tran.x) + rnorm(50)\n",
    "test.y <- fun1(test.x) + rnorm(50)\n",
    "\n",
    "## Compute MSE along with different df\n",
    "df <- 2:40\n",
    "MSE <- matrix(0, length(df), 2)\n",
    "for (i in 1:length(df)) {\n",
    "tran.fit <- smooth.spline(tran.x, tran.y, df=df[i])\n",
    "MSE[i,1] <- mean((tran.y - predict(tran.fit, tran.x)$y)^2)\n",
    "MSE[i,2] <- mean((test.y - predict(tran.fit, test.x)$y)^2)\n",
    "}\n",
    "\n",
    "## Plot both test and training errors\n",
    "matplot(df, MSE, type=\"l\", col=c(\"gray\", \"red\"),\n",
    "xlab=\"Flexibility\", ylab=\"Mean Squared Error\",\n",
    "lwd=2, lty=1, ylim=c(0,4))\n",
    "abline(h=1, lty=2)\n",
    "legend(\"top\", lty=1, col=c(\"red\", \"gray\"),lwd=2,\n",
    "legend=c(\"Test MSE\", \"Training MSE\"))\n",
    "abline(v=df[which.min(MSE[,1])], lty=3, col=\"gray\")\n",
    "abline(v=df[which.min(MSE[,2])], lty=3, col=\"red\")\n",
    "```"
   ]
  },
  {
   "cell_type": "markdown",
   "id": "90da1ef5",
   "metadata": {},
   "source": [
    "# Bias Variance Trade-off \n",
    "\n",
    "- $E(y_0 - \\hat{f}(x_0))^2 = Var(\\hat{f}(x_0)) + [Bias(\\hat{f}(x_0))]^2 + Var(\\epsilon)$\n",
    "- $Bias(\\hat{f}(x_0)) = E[\\hat{f}(x_0)] - f(x_0)$\n",
    "\n",
    "![](Img/TradeOff_01.png)\n",
    "\n",
    "- **Flexibility** of $\\hat{f}$ increases, **Variance** increases, **Bias** decreases.\n",
    "- **Flexibility** of $\\hat{f}$ decreaess, **Variance** decreases, **Bias** increases.\n",
    "- The best performance of a statistical learning methods : <font color='red'>Low Varaince + Low Bias</font>\n",
    "\n",
    "![](Img/TradeOff_02.png)\n",
    "\n",
    "- For the best performance of a statistical learning methods, we need to set model which minimize $MSE_{test}$."
   ]
  },
  {
   "cell_type": "markdown",
   "id": "a112ad2a",
   "metadata": {},
   "source": [
    "# Cross Validation"
   ]
  },
  {
   "cell_type": "markdown",
   "id": "7623dbbf",
   "metadata": {},
   "source": [
    "- In real world, we can't get test data for $MSE_{test}$. \n",
    "- So we should divide train data into train data and test data. \n",
    "- **Test-set Error Estimation**\n",
    "    - **Mathematical Adjustment** : Include $C_p$ statistic, $AIC$ and $BIC$.\n",
    "    - **Hold out** : holding out a subset of the training set. \n",
    "        - Validation set approach\n",
    "        - K-fold Cross Validation\n",
    "        - LOOCV, LpOCV"
   ]
  },
  {
   "cell_type": "markdown",
   "id": "743be86a",
   "metadata": {},
   "source": [
    "## Validation Set Approach"
   ]
  },
  {
   "cell_type": "markdown",
   "id": "8c00c851",
   "metadata": {},
   "source": [
    "- Divide set into two parts : <font color='red'>Training set + Validation set</font>\n",
    "- Regression problem : MSE \n",
    "- Classification problem : Misclassification Rate \n",
    "- <font color='red'>Validation shouldn't take part in training statistical model.</font>"
   ]
  },
  {
   "cell_type": "markdown",
   "id": "aaa489d3",
   "metadata": {},
   "source": [
    "## [Ex] Validation Set Approach \n",
    "\n",
    "![](Img/ValidationSetApproach01.png) \n",
    "\n",
    "```R\n",
    "# Dataset Preparation \n",
    "library(ISLR) \n",
    "data(Auto) \n",
    "str(Auto) \n",
    "summary(Auto) \n",
    "\n",
    "# Extract target \n",
    "mpg <- Auto$mpg\n",
    "horsepower <- Auto$horsepower\n",
    "\n",
    "# set df \n",
    "dg <- 1:9\n",
    "u <- order(horsepower) \n",
    "\n",
    "# Preview dataset \n",
    "par(mfrow=c(3,3))\n",
    "for (k in 1:length(dg)) {\n",
    "    g <- lm(mpg ~ poly(horsepower, dg[k]))\n",
    "    plot(mpg~horsepower, col=2, pch=20, xlab=\"Horsepower\",\n",
    "    ylab=\"mpg\", main=paste(\"dg =\", dg[k]))\n",
    "    lines(horsepower[u], g$fit[u], col=\"darkblue\", lwd=3)\n",
    "}\n",
    "```\n",
    "\n",
    "![](Img/ValidationSetApproach02.png)\n",
    "\n",
    "```R\n",
    "# Single Split \n",
    "set.seed(1)\n",
    "n <- nrow(Auto)\n",
    "\n",
    "## training set\n",
    "tran <- sample(n, n/2)\n",
    "MSE <- NULL\n",
    "for (k in 1:length(dg)) {\n",
    "    g <- lm(mpg ~ poly(horsepower, dg[k]), subset=tran)\n",
    "    MSE[k] <- mean((mpg - predict(g, Auto))[-tran]^2)\n",
    "}\n",
    "\n",
    "# Visualization MSE_test\n",
    "plot(dg, MSE, type=\"b\", col=2, xlab=\"Degree of Polynomial\",\n",
    "ylab=\"Mean Squared Error\", ylim=c(15,30), lwd=2, pch=19)\n",
    "abline(v=which.min(MSE), lty=2)\n",
    "```"
   ]
  },
  {
   "cell_type": "markdown",
   "id": "990258e1",
   "metadata": {},
   "source": [
    "## K-fold Cross Validation"
   ]
  },
  {
   "cell_type": "markdown",
   "id": "3c4e8b5d",
   "metadata": {},
   "source": [
    "- K-fold Cross-validation divide the data into K equal-sized parts. We leave out part $K$, fit the model to the other $K - 1$ parts, and then obtain prediction for the left-out kth part. \n",
    "- If we evaluate 10 models with 5-fold CV, then we need to consider $5 \\times 10$ cross validation score. \n",
    "- We compare the average mean score of K cross validation scores among models. \n",
    "- $CVE = \\frac{1}{n}\\sum_{k=1}^{K}(n_k MSE_k)$ "
   ]
  },
  {
   "cell_type": "markdown",
   "id": "d0f964c2",
   "metadata": {},
   "source": [
    "## [Ex] K-fold Cross Validation"
   ]
  },
  {
   "cell_type": "markdown",
   "id": "6764de88",
   "metadata": {},
   "source": [
    "```R\n",
    "# 10-fold cross validation\n",
    "k <- 10 \n",
    "MSE <- matrix(0, n, length(dg)) # degree is 1:9\n",
    "\n",
    "# Assertion each data point to each fold \n",
    "# e.g. [1, 3, 3, 5, 6, ..., 10] (n) \n",
    "set.seed(1234) \n",
    "u <- sample(rep(seq(K), lengnth=n)) \n",
    "\n",
    "# Model training \n",
    "\"\"\" \n",
    " f1     f2 f3 f4 f5 ... f9 \n",
    "MSE1\n",
    "MSE2\n",
    "...\n",
    "MSE10 \n",
    "\"\"\"\n",
    "for (k in 1:K) {\n",
    "    tran <- which(u!=k) \n",
    "    test <- which(u==k) \n",
    "    for (i in 1:length(dg)) { \n",
    "        g <- lm(mpg ~ poly(horsepower, i), subset=tran) \n",
    "        MSE[test, i] <- (mpg - predict(g, Auto))[test]^2 \n",
    "    } \n",
    "}\n",
    "CVE <- apply(MSE, 2, mean) \n",
    "\n",
    "# Visualization\n",
    "plot(dg, CVE, type=\"b\", col=\"darkblue\",\n",
    "xlab=\"Degree of Polynomial\", ylab=\"Mean Squared Error\",\n",
    "ylim=c(18,25), lwd=2, pch=19)\n",
    "abline(v=which.min(CVE), lty=2)\n",
    "```\n",
    "\n",
    "![](Img/Kfold01.png) \n",
    "\n",
    "- The best proper value of degree of freedom is 2 when we consider inferring on population sets.\n",
    "- This is elbow point of CVE plot."
   ]
  },
  {
   "cell_type": "markdown",
   "id": "cb4a5826",
   "metadata": {},
   "source": [
    "## LOOCV\n",
    "\n",
    "- Setting $K=n$ yields leave-one out cross validation(LOOCV). "
   ]
  },
  {
   "cell_type": "markdown",
   "id": "fd700820",
   "metadata": {},
   "source": [
    "## [Ex] LOOCV"
   ]
  },
  {
   "cell_type": "markdown",
   "id": "692f2e4c",
   "metadata": {},
   "source": [
    "```R\n",
    "# Auto Data : LOOCV\n",
    "# Set the degree of freedom and result matrix \n",
    "n <- nrow(Auto)\n",
    "dg <- 1:9\n",
    "MSE <- matrix(0, n, length(dg))\n",
    "\n",
    "for (i in 1:n) {\n",
    "    for (k in 1:length(dg)) {\n",
    "        g <- lm(mpg ~ poly(horsepower, k), subset=(1:n)[-i])\n",
    "        MSE[i, k] <- mean((mpg - predict(g, Auto))[i]^2)\n",
    "    }\n",
    "}\n",
    "# Calculate CVE \n",
    "aMSE <- apply(MSE, 2, mean)\n",
    "\n",
    "# Visualization\n",
    "par(mfrow=c(1, 2))\n",
    "plot(dg, aMSE, type=\"b\", col=\"darkblue\",\n",
    "     xlab=\"Degree of Polynomial\", ylab=\"Mean Squared Error\",\n",
    "     ylim=c(18,25), lwd=2, pch=19)\n",
    "abline(v=which.min(aMSE), lty=2)\n",
    "```"
   ]
  }
 ],
 "metadata": {
  "kernelspec": {
   "display_name": "Python 3 (ipykernel)",
   "language": "python",
   "name": "python3"
  },
  "language_info": {
   "codemirror_mode": {
    "name": "ipython",
    "version": 3
   },
   "file_extension": ".py",
   "mimetype": "text/x-python",
   "name": "python",
   "nbconvert_exporter": "python",
   "pygments_lexer": "ipython3",
   "version": "3.9.13"
  },
  "toc": {
   "base_numbering": 1,
   "nav_menu": {},
   "number_sections": true,
   "sideBar": true,
   "skip_h1_title": false,
   "title_cell": "Table of Contents",
   "title_sidebar": "Contents",
   "toc_cell": false,
   "toc_position": {
    "height": "calc(100% - 180px)",
    "left": "10px",
    "top": "150px",
    "width": "329.933px"
   },
   "toc_section_display": true,
   "toc_window_display": false
  },
  "varInspector": {
   "cols": {
    "lenName": 16,
    "lenType": 16,
    "lenVar": 40
   },
   "kernels_config": {
    "python": {
     "delete_cmd_postfix": "",
     "delete_cmd_prefix": "del ",
     "library": "var_list.py",
     "varRefreshCmd": "print(var_dic_list())"
    },
    "r": {
     "delete_cmd_postfix": ") ",
     "delete_cmd_prefix": "rm(",
     "library": "var_list.r",
     "varRefreshCmd": "cat(var_dic_list()) "
    }
   },
   "types_to_exclude": [
    "module",
    "function",
    "builtin_function_or_method",
    "instance",
    "_Feature"
   ],
   "window_display": false
  }
 },
 "nbformat": 4,
 "nbformat_minor": 5
}
